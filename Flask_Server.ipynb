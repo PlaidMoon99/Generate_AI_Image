{
  "cells": [
    {
      "cell_type": "markdown",
      "metadata": {
        "id": "view-in-github",
        "colab_type": "text"
      },
      "source": [
        "<a href=\"https://colab.research.google.com/github/PlaidMoon99/Generate_AI_Image/blob/main/Flask_Server.ipynb\" target=\"_parent\"><img src=\"https://colab.research.google.com/assets/colab-badge.svg\" alt=\"Open In Colab\"/></a>"
      ]
    },
    {
      "cell_type": "markdown",
      "metadata": {
        "id": "5iz8qxjlVGDH"
      },
      "source": [
        "# flask 서버를 이용해 localhost:5000 에 접속 되는지 확인하는 파일\n"
      ]
    },
    {
      "cell_type": "markdown",
      "metadata": {
        "id": "vWpdpPqgVUZa"
      },
      "source": [
        "### flask 이용\n",
        "### ngrok로 서버 접속"
      ]
    },
    {
      "cell_type": "code",
      "execution_count": null,
      "metadata": {
        "colab": {
          "background_save": true,
          "base_uri": "https://localhost:8080/"
        },
        "id": "ggoo3f2-XWUI",
        "outputId": "3606f99f-5b3d-4b19-966c-f3d27476616f"
      },
      "outputs": [
        {
          "name": "stdout",
          "output_type": "stream",
          "text": [
            "Collecting flask-ngrok\n",
            "  Downloading flask_ngrok-0.0.25-py3-none-any.whl.metadata (1.8 kB)\n",
            "Requirement already satisfied: Flask>=0.8 in /usr/local/lib/python3.10/dist-packages (from flask-ngrok) (2.2.5)\n",
            "Requirement already satisfied: requests in /usr/local/lib/python3.10/dist-packages (from flask-ngrok) (2.32.3)\n",
            "Requirement already satisfied: Werkzeug>=2.2.2 in /usr/local/lib/python3.10/dist-packages (from Flask>=0.8->flask-ngrok) (3.0.4)\n",
            "Requirement already satisfied: Jinja2>=3.0 in /usr/local/lib/python3.10/dist-packages (from Flask>=0.8->flask-ngrok) (3.1.4)\n",
            "Requirement already satisfied: itsdangerous>=2.0 in /usr/local/lib/python3.10/dist-packages (from Flask>=0.8->flask-ngrok) (2.2.0)\n",
            "Requirement already satisfied: click>=8.0 in /usr/local/lib/python3.10/dist-packages (from Flask>=0.8->flask-ngrok) (8.1.7)\n",
            "Requirement already satisfied: charset-normalizer<4,>=2 in /usr/local/lib/python3.10/dist-packages (from requests->flask-ngrok) (3.4.0)\n",
            "Requirement already satisfied: idna<4,>=2.5 in /usr/local/lib/python3.10/dist-packages (from requests->flask-ngrok) (3.10)\n",
            "Requirement already satisfied: urllib3<3,>=1.21.1 in /usr/local/lib/python3.10/dist-packages (from requests->flask-ngrok) (2.2.3)\n",
            "Requirement already satisfied: certifi>=2017.4.17 in /usr/local/lib/python3.10/dist-packages (from requests->flask-ngrok) (2024.8.30)\n",
            "Requirement already satisfied: MarkupSafe>=2.0 in /usr/local/lib/python3.10/dist-packages (from Jinja2>=3.0->Flask>=0.8->flask-ngrok) (3.0.1)\n",
            "Downloading flask_ngrok-0.0.25-py3-none-any.whl (3.1 kB)\n",
            "Installing collected packages: flask-ngrok\n",
            "Successfully installed flask-ngrok-0.0.25\n"
          ]
        }
      ],
      "source": [
        "!pip install flask-ngrok"
      ]
    },
    {
      "cell_type": "code",
      "execution_count": null,
      "metadata": {
        "id": "XQc2Ca0uXl8D"
      },
      "outputs": [],
      "source": [
        "from flask import Flask\n",
        "from flask_ngrok import run_with_ngrok\n",
        "\n",
        "app = Flask(__name__)\n",
        "run_with_ngrok(app)  # ngrok으로 Flask 앱을 실행합니다.\n",
        "\n",
        "@app.route('/')\n",
        "def home():\n",
        "    return \"Hello, World!\"\n",
        "\n",
        "if __name__ == '__main__':\n",
        "    app.run()\n"
      ]
    },
    {
      "cell_type": "markdown",
      "metadata": {
        "id": "AdXczmxRXz69"
      },
      "source": [
        "실행결과 다음과  같이  실행됨\n",
        "코드는 계속 무한로딩중이고 결과창에 뜬 running on : <주소>\n",
        "<주소>를  클릭시 다음페이지가 실행"
      ]
    },
    {
      "cell_type": "markdown",
      "metadata": {
        "id": "oZw9s7a1XsYX"
      },
      "source": [
        "![11.png](data:image/png;base64,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)\n"
      ]
    },
    {
      "cell_type": "markdown",
      "source": [
        "그럼 왜 안되는데"
      ],
      "metadata": {
        "id": "lYiIve358ED-"
      }
    }
  ],
  "metadata": {
    "colab": {
      "provenance": [],
      "authorship_tag": "ABX9TyO/CThehrxgG76wSk6Jj/NC",
      "include_colab_link": true
    },
    "kernelspec": {
      "display_name": "Python 3",
      "name": "python3"
    },
    "language_info": {
      "name": "python"
    }
  },
  "nbformat": 4,
  "nbformat_minor": 0
}