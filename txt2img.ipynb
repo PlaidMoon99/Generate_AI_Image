{
  "nbformat": 4,
  "nbformat_minor": 0,
  "metadata": {
    "colab": {
      "provenance": [],
      "authorship_tag": "ABX9TyN+SGsE3z/uMtT+6qYESD7v",
      "include_colab_link": true
    },
    "kernelspec": {
      "name": "python3",
      "display_name": "Python 3"
    },
    "language_info": {
      "name": "python"
    }
  },
  "cells": [
    {
      "cell_type": "markdown",
      "metadata": {
        "id": "view-in-github",
        "colab_type": "text"
      },
      "source": [
        "<a href=\"https://colab.research.google.com/github/PlaidMoon99/Generate_AI_Image/blob/main/txt2img.ipynb\" target=\"_parent\"><img src=\"https://colab.research.google.com/assets/colab-badge.svg\" alt=\"Open In Colab\"/></a>"
      ]
    },
    {
      "cell_type": "markdown",
      "source": [
        "# txt2img.py"
      ],
      "metadata": {
        "id": "KHoEDQ-svuVB"
      }
    },
    {
      "cell_type": "code",
      "source": [
        "import json\n",
        "from contextlib import closing\n",
        "\n",
        "import modules.scripts\n",
        "from modules import processing, infotext_utils\n",
        "from modules.infotext_utils import create_override_settings_dict, parse_generation_parameters\n",
        "from modules.shared import opts\n",
        "import modules.shared as shared\n",
        "from modules.ui import plaintext_to_html\n",
        "from PIL import Image\n",
        "import gradio as gr\n",
        "\n",
        "\n",
        "def txt2img_create_processing(id_task: str, request: gr.Request, prompt: str, negative_prompt: str, prompt_styles, n_iter: int, batch_size: int, cfg_scale: float, height: int, width: int, enable_hr: bool, denoising_strength: float, hr_scale: float, hr_upscaler: str, hr_second_pass_steps: int, hr_resize_x: int, hr_resize_y: int, hr_checkpoint_name: str, hr_sampler_name: str, hr_scheduler: str, hr_prompt: str, hr_negative_prompt, override_settings_texts, *args, force_enable_hr=False):\n",
        "    override_settings = create_override_settings_dict(override_settings_texts)\n",
        "\n",
        "    if force_enable_hr:\n",
        "        enable_hr = True\n",
        "\n",
        "    p = processing.StableDiffusionProcessingTxt2Img(\n",
        "        sd_model=shared.sd_model,\n",
        "        outpath_samples=opts.outdir_samples or opts.outdir_txt2img_samples,\n",
        "        outpath_grids=opts.outdir_grids or opts.outdir_txt2img_grids,\n",
        "        prompt=prompt,\n",
        "        styles=prompt_styles,\n",
        "        negative_prompt=negative_prompt,\n",
        "        batch_size=batch_size,\n",
        "        n_iter=n_iter,\n",
        "        cfg_scale=cfg_scale,\n",
        "        width=width,\n",
        "        height=height,\n",
        "        enable_hr=enable_hr,\n",
        "        denoising_strength=denoising_strength,\n",
        "        hr_scale=hr_scale,\n",
        "        hr_upscaler=hr_upscaler,\n",
        "        hr_second_pass_steps=hr_second_pass_steps,\n",
        "        hr_resize_x=hr_resize_x,\n",
        "        hr_resize_y=hr_resize_y,\n",
        "        hr_checkpoint_name=None if hr_checkpoint_name == 'Use same checkpoint' else hr_checkpoint_name,\n",
        "        hr_sampler_name=None if hr_sampler_name == 'Use same sampler' else hr_sampler_name,\n",
        "        hr_scheduler=None if hr_scheduler == 'Use same scheduler' else hr_scheduler,\n",
        "        hr_prompt=hr_prompt,\n",
        "        hr_negative_prompt=hr_negative_prompt,\n",
        "        override_settings=override_settings,\n",
        "    )\n",
        "\n",
        "    p.scripts = modules.scripts.scripts_txt2img\n",
        "    p.script_args = args\n",
        "\n",
        "    p.user = request.username\n",
        "\n",
        "    if shared.opts.enable_console_prompts:\n",
        "        print(f\"\\ntxt2img: {prompt}\", file=shared.progress_print_out)\n",
        "\n",
        "    return p\n",
        "\n",
        "\n",
        "def txt2img_upscale(id_task: str, request: gr.Request, gallery, gallery_index, generation_info, *args):\n",
        "    assert len(gallery) > 0, 'No image to upscale'\n",
        "    assert 0 <= gallery_index < len(gallery), f'Bad image index: {gallery_index}'\n",
        "\n",
        "    p = txt2img_create_processing(id_task, request, *args, force_enable_hr=True)\n",
        "    p.batch_size = 1\n",
        "    p.n_iter = 1\n",
        "    # txt2img_upscale attribute that signifies this is called by txt2img_upscale\n",
        "    p.txt2img_upscale = True\n",
        "\n",
        "    geninfo = json.loads(generation_info)\n",
        "\n",
        "    image_info = gallery[gallery_index] if 0 <= gallery_index < len(gallery) else gallery[0]\n",
        "    p.firstpass_image = infotext_utils.image_from_url_text(image_info)\n",
        "\n",
        "    parameters = parse_generation_parameters(geninfo.get('infotexts')[gallery_index], [])\n",
        "    p.seed = parameters.get('Seed', -1)\n",
        "    p.subseed = parameters.get('Variation seed', -1)\n",
        "\n",
        "    p.override_settings['save_images_before_highres_fix'] = False\n",
        "\n",
        "    with closing(p):\n",
        "        processed = modules.scripts.scripts_txt2img.run(p, *p.script_args)\n",
        "\n",
        "        if processed is None:\n",
        "            processed = processing.process_images(p)\n",
        "\n",
        "    shared.total_tqdm.clear()\n",
        "\n",
        "    new_gallery = []\n",
        "    for i, image in enumerate(gallery):\n",
        "        if i == gallery_index:\n",
        "            geninfo[\"infotexts\"][gallery_index: gallery_index+1] = processed.infotexts\n",
        "            new_gallery.extend(processed.images)\n",
        "        else:\n",
        "            fake_image = Image.new(mode=\"RGB\", size=(1, 1))\n",
        "            fake_image.already_saved_as = image[\"name\"].rsplit('?', 1)[0]\n",
        "            new_gallery.append(fake_image)\n",
        "\n",
        "    geninfo[\"infotexts\"][gallery_index] = processed.info\n",
        "\n",
        "    return new_gallery, json.dumps(geninfo), plaintext_to_html(processed.info), plaintext_to_html(processed.comments, classname=\"comments\")\n",
        "\n",
        "\n",
        "def txt2img(id_task: str, request: gr.Request, *args):\n",
        "    p = txt2img_create_processing(id_task, request, *args)\n",
        "\n",
        "    with closing(p):\n",
        "        processed = modules.scripts.scripts_txt2img.run(p, *p.script_args)\n",
        "\n",
        "        if processed is None:\n",
        "            processed = processing.process_images(p)\n",
        "\n",
        "    shared.total_tqdm.clear()\n",
        "\n",
        "    generation_info_js = processed.js()\n",
        "    if opts.samples_log_stdout:\n",
        "        print(generation_info_js)\n",
        "\n",
        "    if opts.do_not_show_images:\n",
        "        processed.images = []\n",
        "\n",
        "    return processed.images, generation_info_js, plaintext_to_html(processed.info), plaintext_to_html(processed.comments, classname=\"comments\")"
      ],
      "metadata": {
        "colab": {
          "base_uri": "https://localhost:8080/",
          "height": 406
        },
        "id": "FEAkonWLyWHd",
        "outputId": "accd7cdc-1f70-43f3-a241-fc48c9fb389e"
      },
      "execution_count": null,
      "outputs": [
        {
          "output_type": "error",
          "ename": "ModuleNotFoundError",
          "evalue": "No module named 'modules'",
          "traceback": [
            "\u001b[0;31m---------------------------------------------------------------------------\u001b[0m",
            "\u001b[0;31mModuleNotFoundError\u001b[0m                       Traceback (most recent call last)",
            "\u001b[0;32m<ipython-input-5-6241a8a1c39d>\u001b[0m in \u001b[0;36m<cell line: 4>\u001b[0;34m()\u001b[0m\n\u001b[1;32m      2\u001b[0m \u001b[0;32mfrom\u001b[0m \u001b[0mcontextlib\u001b[0m \u001b[0;32mimport\u001b[0m \u001b[0mclosing\u001b[0m\u001b[0;34m\u001b[0m\u001b[0;34m\u001b[0m\u001b[0m\n\u001b[1;32m      3\u001b[0m \u001b[0;34m\u001b[0m\u001b[0m\n\u001b[0;32m----> 4\u001b[0;31m \u001b[0;32mimport\u001b[0m \u001b[0mmodules\u001b[0m\u001b[0;34m.\u001b[0m\u001b[0mscripts\u001b[0m\u001b[0;34m\u001b[0m\u001b[0;34m\u001b[0m\u001b[0m\n\u001b[0m\u001b[1;32m      5\u001b[0m \u001b[0;32mfrom\u001b[0m \u001b[0mmodules\u001b[0m \u001b[0;32mimport\u001b[0m \u001b[0mprocessing\u001b[0m\u001b[0;34m,\u001b[0m \u001b[0minfotext_utils\u001b[0m\u001b[0;34m\u001b[0m\u001b[0;34m\u001b[0m\u001b[0m\n\u001b[1;32m      6\u001b[0m \u001b[0;32mfrom\u001b[0m \u001b[0mmodules\u001b[0m\u001b[0;34m.\u001b[0m\u001b[0minfotext_utils\u001b[0m \u001b[0;32mimport\u001b[0m \u001b[0mcreate_override_settings_dict\u001b[0m\u001b[0;34m,\u001b[0m \u001b[0mparse_generation_parameters\u001b[0m\u001b[0;34m\u001b[0m\u001b[0;34m\u001b[0m\u001b[0m\n",
            "\u001b[0;31mModuleNotFoundError\u001b[0m: No module named 'modules'",
            "",
            "\u001b[0;31m---------------------------------------------------------------------------\u001b[0;32m\nNOTE: If your import is failing due to a missing package, you can\nmanually install dependencies using either !pip or !apt.\n\nTo view examples of installing some common dependencies, click the\n\"Open Examples\" button below.\n\u001b[0;31m---------------------------------------------------------------------------\u001b[0m\n"
          ],
          "errorDetails": {
            "actions": [
              {
                "action": "open_url",
                "actionText": "Open Examples",
                "url": "/notebooks/snippets/importing_libraries.ipynb"
              }
            ]
          }
        }
      ]
    }
  ]
}