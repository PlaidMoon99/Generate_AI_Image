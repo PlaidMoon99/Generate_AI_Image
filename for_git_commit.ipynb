{
  "nbformat": 4,
  "nbformat_minor": 0,
  "metadata": {
    "colab": {
      "provenance": [],
      "authorship_tag": "ABX9TyNZlWscMYW59dlU6YGAhHtC",
      "include_colab_link": true
    },
    "kernelspec": {
      "name": "python3",
      "display_name": "Python 3"
    },
    "language_info": {
      "name": "python"
    }
  },
  "cells": [
    {
      "cell_type": "markdown",
      "metadata": {
        "id": "view-in-github",
        "colab_type": "text"
      },
      "source": [
        "<a href=\"https://colab.research.google.com/github/PlaidMoon99/Generate_AI_Image/blob/main/for_git_commit.ipynb\" target=\"_parent\"><img src=\"https://colab.research.google.com/assets/colab-badge.svg\" alt=\"Open In Colab\"/></a>"
      ]
    },
    {
      "cell_type": "code",
      "execution_count": null,
      "metadata": {
        "colab": {
          "base_uri": "https://localhost:8080/"
        },
        "id": "gqEIMB35BlQK",
        "outputId": "cc944e3b-b1d4-4b0c-bb92-ad3eeadd037f"
      },
      "outputs": [
        {
          "output_type": "stream",
          "name": "stdout",
          "text": [
            "Mounted at /gdrive\n"
          ]
        }
      ],
      "source": [
        "#  google drive Mount\n",
        "from google.colab import drive\n",
        "drive.mount('/gdrive')"
      ]
    },
    {
      "cell_type": "code",
      "source": [
        "# github와  연동하고 싶은 폴더로 이동\n",
        "%cd '/gdrive/MyDrive/colab'"
      ],
      "metadata": {
        "colab": {
          "base_uri": "https://localhost:8080/"
        },
        "id": "DhKQF2ULB53B",
        "outputId": "b8cbb4f4-1278-4d07-b93f-a0ebeda41ce3"
      },
      "execution_count": null,
      "outputs": [
        {
          "output_type": "stream",
          "name": "stdout",
          "text": [
            "/gdrive/MyDrive/colab\n"
          ]
        }
      ]
    },
    {
      "cell_type": "code",
      "source": [
        "# git 생성\n",
        "!git init\n",
        "!git config --global user.email \"yebin.moon99@gmail.com\"\n",
        "!git config --global user.name \"PlaidMoon99\""
      ],
      "metadata": {
        "colab": {
          "base_uri": "https://localhost:8080/"
        },
        "id": "vPsCTxFRCoNO",
        "outputId": "e5890b67-7844-4673-8eea-4d2827ca791f"
      },
      "execution_count": null,
      "outputs": [
        {
          "output_type": "stream",
          "name": "stdout",
          "text": [
            "\u001b[33mhint: Using 'master' as the name for the initial branch. This default branch name\u001b[m\n",
            "\u001b[33mhint: is subject to change. To configure the initial branch name to use in all\u001b[m\n",
            "\u001b[33mhint: of your new repositories, which will suppress this warning, call:\u001b[m\n",
            "\u001b[33mhint: \u001b[m\n",
            "\u001b[33mhint: \tgit config --global init.defaultBranch <name>\u001b[m\n",
            "\u001b[33mhint: \u001b[m\n",
            "\u001b[33mhint: Names commonly chosen instead of 'master' are 'main', 'trunk' and\u001b[m\n",
            "\u001b[33mhint: 'development'. The just-created branch can be renamed via this command:\u001b[m\n",
            "\u001b[33mhint: \u001b[m\n",
            "\u001b[33mhint: \tgit branch -m <name>\u001b[m\n",
            "Initialized empty Git repository in /gdrive/MyDrive/colab/.git/\n"
          ]
        }
      ]
    },
    {
      "cell_type": "code",
      "source": [
        "!git branch -m \"branch\""
      ],
      "metadata": {
        "id": "YkGxderyDrM2"
      },
      "execution_count": null,
      "outputs": []
    },
    {
      "cell_type": "code",
      "source": [
        "#git commit\n",
        "!git add .\n",
        "!git commit -m \"commit2\""
      ],
      "metadata": {
        "colab": {
          "base_uri": "https://localhost:8080/"
        },
        "id": "_xRsEVNjC26w",
        "outputId": "4016ef0e-9db2-4361-a56e-ea50c1977a17"
      },
      "execution_count": null,
      "outputs": [
        {
          "output_type": "stream",
          "name": "stdout",
          "text": [
            "error: 'Colab Notebooks/Generate_AI_Image/' does not have a commit checked out\n",
            "fatal: adding files failed\n",
            "On branch branch\n",
            "\n",
            "Initial commit\n",
            "\n",
            "Untracked files:\n",
            "  (use \"git add <file>...\" to include in what will be committed)\n",
            "\t\u001b[31mColab Notebooks/\u001b[m\n",
            "\t\u001b[31mCommit_Folder/\u001b[m\n",
            "\t\u001b[31mDiffusion_AI_Image_Generate.ipynb\u001b[m\n",
            "\t\u001b[31mServer_api_AI_Image.ipynb\u001b[m\n",
            "\n",
            "nothing added to commit but untracked files present (use \"git add\" to track)\n"
          ]
        }
      ]
    },
    {
      "cell_type": "markdown",
      "source": [
        "git 추가 되는지 확인용\n"
      ],
      "metadata": {
        "id": "O8k49EAGGmKi"
      }
    },
    {
      "cell_type": "code",
      "source": [
        "print(\"hello\")"
      ],
      "metadata": {
        "colab": {
          "base_uri": "https://localhost:8080/"
        },
        "id": "5_P1YYYSGq1y",
        "outputId": "3991a317-8f0b-4cb8-9376-d6ccf2d29ab2"
      },
      "execution_count": 12,
      "outputs": [
        {
          "output_type": "stream",
          "name": "stdout",
          "text": [
            "hello\n"
          ]
        }
      ]
    }
  ]
}